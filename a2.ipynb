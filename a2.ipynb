{
 "cells": [
  {
   "cell_type": "code",
   "execution_count": 2,
   "metadata": {},
   "outputs": [
    {
     "name": "stdout",
     "output_type": "stream",
     "text": [
      "belence\n"
     ]
    }
   ],
   "source": [
    "#wap to check wether the list is balanced or not if the sum of even index element=sum of odd \n",
    "#index element is known as balance shit\n",
    "l2=[1,2,3,4,5]\n",
    "sum1=0\n",
    "sum2=0\n",
    "l1=[3,4,4,3]\n",
    "for i in range(len(l1)):\n",
    "    sum1=sum(l1[0::2])\n",
    "    sum2=sum(l1[1::2])\n",
    "if sum1==sum2:\n",
    "    print(\"balence\")\n",
    "else:\n",
    "    print(\"unbalance\")\n"
   ]
  },
  {
   "cell_type": "code",
   "execution_count": 7,
   "metadata": {},
   "outputs": [
    {
     "name": "stdout",
     "output_type": "stream",
     "text": [
      "2\n"
     ]
    }
   ],
   "source": [
    "# wap to to count number of string where the string length is three or more \n",
    "# and the first and last character are same groma a given list \n",
    "l=['abc','xyz','aba','1221','12345','cdxyz']\n",
    "count=0\n",
    "for i in l:\n",
    "    if len(i)>=3 and i[0]==i[-1]:\n",
    "        count+=1\n",
    "print(count)\n",
    "        "
   ]
  },
  {
   "cell_type": "code",
   "execution_count": 10,
   "metadata": {},
   "outputs": [
    {
     "name": "stdout",
     "output_type": "stream",
     "text": [
      "{'patel': 2, 'power': 1}\n"
     ]
    }
   ],
   "source": [
    "#wap too count the frequency of the words from the given string \n",
    "s1=\"the quick brown box jumps over the lazy dog\"\n",
    "s=\"patel power patel\"\n",
    "s=s.lower()\n",
    "d={}\n",
    "words=s.split()\n",
    "for i in words:\n",
    "    if i in d:\n",
    "        d[i]+=1\n",
    "    else:\n",
    "        d[i]=1\n",
    "print(d)\n",
    "    "
   ]
  },
  {
   "cell_type": "code",
   "execution_count": 11,
   "metadata": {},
   "outputs": [
    {
     "name": "stdout",
     "output_type": "stream",
     "text": [
      "{'patel': 2, 'power': 1}\n"
     ]
    }
   ],
   "source": [
    "#wap too count the frequency of the words from the given string \n",
    "s1=\"the quick brown box jumps over the lazy dog\"\n",
    "s=\"patel power patel\"\n",
    "s=s.lower()\n",
    "d={}\n",
    "for i in (s.split()):\n",
    "    if i in d:\n",
    "        d[i]+=1\n",
    "    else:\n",
    "        d[i]=1\n",
    "print(d)\n"
   ]
  },
  {
   "cell_type": "code",
   "execution_count": 15,
   "metadata": {},
   "outputs": [
    {
     "name": "stdout",
     "output_type": "stream",
     "text": [
      "[1, 2, 1, 2, 1]\n",
      "[1, 2, 1, 2, 1]\n",
      "7\n"
     ]
    }
   ],
   "source": [
    "#wap to count number of candies minimun required a teacher has decided to all students for that \n",
    "#the teacher has given some rank to each student based on that rank the teacher has made certain\n",
    "#rules for distributing candies\n",
    "#rule 1 each student must recieve one candy\n",
    "#rule 2 students having higher ranking get a greter number of candies than there neighbers\n",
    "l=[1,2,1,5,2]\n",
    "c1=[1]\n",
    "c2=[1]\n",
    "for i in range(1,len(l)):\n",
    "    if l[i]>l[i-1]:\n",
    "        c1.append(c1[i-1]+1)\n",
    "    else:\n",
    "        c1.append(1)\n",
    "print(c1)\n",
    "# for reverse mathod\n",
    "for i in range(len(l)-2,-1,-1):\n",
    "    if l[i]>l[i+1]:\n",
    "        c1[i]=max(c1[i+1]+1,c1[i])\n",
    "print(c1)\n",
    "print(sum(c1))"
   ]
  },
  {
   "cell_type": "code",
   "execution_count": 19,
   "metadata": {},
   "outputs": [
    {
     "name": "stdout",
     "output_type": "stream",
     "text": [
      "square of 5 : 25\n",
      "11\n",
      "24\n"
     ]
    }
   ],
   "source": [
    "s=lambda n:n*n\n",
    "print(\"square of 5 :\",s(5))\n",
    "s1=lambda a,b:a+b\n",
    "print(s1(3,8))\n",
    "s2=lambda a,b,c:a*b*c\n",
    "print(s2(2,3,4))"
   ]
  },
  {
   "cell_type": "code",
   "execution_count": 22,
   "metadata": {},
   "outputs": [
    {
     "name": "stdout",
     "output_type": "stream",
     "text": [
      "[2, 4, 10, 8]\n"
     ]
    }
   ],
   "source": [
    "l=[1,2,5,4]\n",
    "l1=list(map(lambda x:2*x,l))\n",
    "print(l1)"
   ]
  },
  {
   "cell_type": "code",
   "execution_count": 23,
   "metadata": {},
   "outputs": [
    {
     "name": "stdout",
     "output_type": "stream",
     "text": [
      "[5, 7, 9, 11]\n"
     ]
    }
   ],
   "source": [
    "# wap to get a list which is the sum of two list elemnts by its index\n",
    "l1=[1,2,3,4]\n",
    "l2=[4,5,6,7]\n",
    "l=list(map(lambda a,b:a+b,l1,l2))\n",
    "print(l)"
   ]
  },
  {
   "cell_type": "code",
   "execution_count": null,
   "metadata": {},
   "outputs": [],
   "source": []
  }
 ],
 "metadata": {
  "kernelspec": {
   "display_name": "Python 3",
   "language": "python",
   "name": "python3"
  },
  "language_info": {
   "codemirror_mode": {
    "name": "ipython",
    "version": 3
   },
   "file_extension": ".py",
   "mimetype": "text/x-python",
   "name": "python",
   "nbconvert_exporter": "python",
   "pygments_lexer": "ipython3",
   "version": "3.8.5"
  }
 },
 "nbformat": 4,
 "nbformat_minor": 4
}
