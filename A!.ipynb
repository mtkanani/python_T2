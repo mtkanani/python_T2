{
 "cells": [
  {
   "cell_type": "code",
   "execution_count": 7,
   "metadata": {},
   "outputs": [
    {
     "name": "stdout",
     "output_type": "stream",
     "text": [
      "s <class 'set'>\n",
      "s1 <class 'dict'>\n",
      "s2 <class 'set'>\n",
      "{1, (1, 2, 3), 'hello'}\n"
     ]
    },
    {
     "ename": "TypeError",
     "evalue": "unhashable type: 'list'",
     "output_type": "error",
     "traceback": [
      "\u001b[1;31m---------------------------------------------------------------------------\u001b[0m",
      "\u001b[1;31mTypeError\u001b[0m                                 Traceback (most recent call last)",
      "\u001b[1;32m<ipython-input-7-ffe24a6cb109>\u001b[0m in \u001b[0;36m<module>\u001b[1;34m\u001b[0m\n\u001b[0;32m      7\u001b[0m \u001b[0ms3\u001b[0m\u001b[1;33m=\u001b[0m\u001b[1;33m{\u001b[0m\u001b[1;36m1\u001b[0m\u001b[1;33m,\u001b[0m\u001b[1;34m'hello'\u001b[0m\u001b[1;33m,\u001b[0m\u001b[1;33m(\u001b[0m\u001b[1;36m1\u001b[0m\u001b[1;33m,\u001b[0m\u001b[1;36m2\u001b[0m\u001b[1;33m,\u001b[0m\u001b[1;36m3\u001b[0m\u001b[1;33m)\u001b[0m\u001b[1;33m}\u001b[0m\u001b[1;33m\u001b[0m\u001b[1;33m\u001b[0m\u001b[0m\n\u001b[0;32m      8\u001b[0m \u001b[0mprint\u001b[0m\u001b[1;33m(\u001b[0m\u001b[0ms3\u001b[0m\u001b[1;33m)\u001b[0m\u001b[1;33m\u001b[0m\u001b[1;33m\u001b[0m\u001b[0m\n\u001b[1;32m----> 9\u001b[1;33m \u001b[0ms4\u001b[0m\u001b[1;33m=\u001b[0m\u001b[1;33m{\u001b[0m\u001b[1;36m1\u001b[0m\u001b[1;33m,\u001b[0m\u001b[1;33m[\u001b[0m\u001b[1;36m2\u001b[0m\u001b[1;33m,\u001b[0m\u001b[1;36m3\u001b[0m\u001b[1;33m,\u001b[0m\u001b[1;36m4\u001b[0m\u001b[1;33m]\u001b[0m\u001b[1;33m,\u001b[0m\u001b[1;36m4\u001b[0m\u001b[1;33m}\u001b[0m\u001b[1;33m\u001b[0m\u001b[1;33m\u001b[0m\u001b[0m\n\u001b[0m\u001b[0;32m     10\u001b[0m \u001b[0mprint\u001b[0m\u001b[1;33m(\u001b[0m\u001b[0ms4\u001b[0m\u001b[1;33m)\u001b[0m\u001b[1;33m\u001b[0m\u001b[1;33m\u001b[0m\u001b[0m\n",
      "\u001b[1;31mTypeError\u001b[0m: unhashable type: 'list'"
     ]
    }
   ],
   "source": [
    "s={1,2,3}\n",
    "print(\"s\",type(s))\n",
    "s1={}\n",
    "print(\"s1\",type(s1))\n",
    "s2=set()\n",
    "print(\"s2\",type(s2))\n",
    "s3={1,'hello',(1,2,3)}\n",
    "print(s3)\n",
    "s4={1,[2,3,4],4}\n",
    "print(s4)"
   ]
  },
  {
   "cell_type": "code",
   "execution_count": 11,
   "metadata": {},
   "outputs": [
    {
     "name": "stdout",
     "output_type": "stream",
     "text": [
      "{1, 2, 3, 4, 5}\n",
      "{1, 2, 3, 4, 5, 6, 7, 8}\n",
      "{1, 2, 3, 4, 5, 6, 7, 8, 'hello'}\n"
     ]
    }
   ],
   "source": [
    "s={1,2,3,4}\n",
    "s.add(5)\n",
    "print(s)\n",
    "s.update([6,7,8])\n",
    "print(s)\n",
    "# s.add([9,10])\n",
    "# print(s)\n",
    "s.add('hello')\n",
    "print(s)"
   ]
  },
  {
   "cell_type": "code",
   "execution_count": 15,
   "metadata": {},
   "outputs": [
    {
     "name": "stdout",
     "output_type": "stream",
     "text": [
      "{1, 3, 5, 42, 12, 556, 56}\n",
      "{1, 3, 5, 42, 12, 556, 56}\n",
      "{1, 3, 5, 12, 556, 56}\n",
      "1\n",
      "{3, 5, 12, 556, 56}\n",
      "set()\n"
     ]
    }
   ],
   "source": [
    "s={1,23,56,42,3,5,12,3,556}\n",
    "s.discard(23)\n",
    "print(s)\n",
    "s.discard(25)\n",
    "print(s)\n",
    "s.remove(42)\n",
    "print(s)\n",
    "print(s.pop())\n",
    "print(s)\n",
    "s.clear()\n",
    "print(s)"
   ]
  },
  {
   "cell_type": "code",
   "execution_count": 18,
   "metadata": {},
   "outputs": [
    {
     "name": "stdout",
     "output_type": "stream",
     "text": [
      "{1, 2, 3, 4, 5, 6, 7, 8}\n",
      "{4, 5}\n",
      "{1, 2, 3}\n",
      "{8, 6, 7}\n",
      "{1, 2, 3, 6, 7, 8}\n"
     ]
    },
    {
     "data": {
      "text/plain": [
       "[5, 4, 3, 2, 1]"
      ]
     },
     "execution_count": 18,
     "metadata": {},
     "output_type": "execute_result"
    }
   ],
   "source": [
    "s1={1,2,3,4,5}\n",
    "s2={4,5,6,7,8}\n",
    "print(s1|s2)\n",
    "print(s1&s2)\n",
    "print(s1-s2)\n",
    "print(s2-s1)\n",
    "print(s1^s2)\n",
    "sorted(s1,reverse=True)"
   ]
  },
  {
   "cell_type": "code",
   "execution_count": 20,
   "metadata": {},
   "outputs": [
    {
     "name": "stdout",
     "output_type": "stream",
     "text": [
      "frozenset({1, 2, 3})\n"
     ]
    }
   ],
   "source": [
    "fs1=frozenset([1,2,3])\n",
    "print(fs1)\n"
   ]
  },
  {
   "cell_type": "code",
   "execution_count": 28,
   "metadata": {},
   "outputs": [
    {
     "name": "stdout",
     "output_type": "stream",
     "text": [
      "{5: 6, 3: 11, 2: 2, 4: 4, 1: 2}\n"
     ]
    }
   ],
   "source": [
    "# wap to get how many time the number occur from ther given list give the o/p in dictionary \n",
    "l=[[5,3,3,5,5],[3,2,4,3,3],[3,4,5,3,3],[3,4,1,3,5],[5,4,1,2,3]]\n",
    "d={}\n",
    "for i in l:\n",
    "    for j in i:\n",
    "        d[j]=d.get(j,0)+1\n",
    "print(d)"
   ]
  },
  {
   "cell_type": "code",
   "execution_count": 52,
   "metadata": {},
   "outputs": [
    {
     "name": "stdout",
     "output_type": "stream",
     "text": [
      "ENTER VALUE213\n",
      "twohundred thirty\n"
     ]
    }
   ],
   "source": [
    "# wap to convert number into name from 0 to 999\n",
    "def int_to_word(n):\n",
    "    d={0:'zero',1:'one',2:'two',3:'three',4:'four',5:'five',6:'six',7:'seven',8:'eight',9:'nine',10:'ten',11:'eleven',12:'twelve',13:'thirty',14:'fourty',15:'fifteen',16:'sixteen',17:'seventeen',18:'eighteen',19:'nineteen',20:'twenty',30:'thirty',40:'fourty',50:'fifty',60:'sixty',70:'seventy',80:'eighty',90:'ninety'}\n",
    "    if(n<20):\n",
    "        return d[n]\n",
    "    if(n<100):\n",
    "        if n%10==0:\n",
    "            return d[n]\n",
    "        else:\n",
    "            return d[n//10*10]+' '+d[n%10]\n",
    "    if(n<1000):\n",
    "        if n%100==0:\n",
    "             return d[n//100]+'hundred'\n",
    "        else:\n",
    "             return d[n//100]+'hundred '+int_to_word(n%100)\n",
    "n=int(input(\"ENTER VALUE\"))\n",
    "print(int_to_word(n))"
   ]
  },
  {
   "cell_type": "code",
   "execution_count": 55,
   "metadata": {},
   "outputs": [
    {
     "ename": "SyntaxError",
     "evalue": "invalid syntax (<ipython-input-55-5410e6081174>, line 13)",
     "output_type": "error",
     "traceback": [
      "\u001b[1;36m  File \u001b[1;32m\"<ipython-input-55-5410e6081174>\"\u001b[1;36m, line \u001b[1;32m13\u001b[0m\n\u001b[1;33m    n=int(input(\"ENTER VALUE\"))\u001b[0m\n\u001b[1;37m    ^\u001b[0m\n\u001b[1;31mSyntaxError\u001b[0m\u001b[1;31m:\u001b[0m invalid syntax\n"
     ]
    }
   ],
   "source": [
    "def int_to_word(n):\n",
    "    d={1:'I',2:'II',3:'III',4:'IV',5:'V',6:'VI',7:'VII',8:'VIII',9:'Ix',10:'X'}\n",
    "    if(n<100):\n",
    "        if n%10==0:\n",
    "            return d[n]\n",
    "        else:\n",
    "            return d[n//10*10]+d[n%10]\n",
    "    if(n<1000):\n",
    "        if n%100==0:\n",
    "             return d[n//100]\n",
    "        else:\n",
    "             return d[n//100+int_to_word(n%100)\n",
    "n=int(input(\"ENTER VALUE\"))\n",
    "print(int_to_word(n))"
   ]
  },
  {
   "cell_type": "code",
   "execution_count": 59,
   "metadata": {},
   "outputs": [
    {
     "name": "stdout",
     "output_type": "stream",
     "text": [
      "ENTER VALUE234\n",
      "CCXXXIV\n"
     ]
    }
   ],
   "source": [
    "#wapto convert int to roman\n",
    "n=int(input(\"ENTER VALUE\"))\n",
    "val=[1000,900,500,400,100,90,50,40,10,9,5,4,1]\n",
    "r=['M','CM','D','CD','C','XC','L','XL','X','IX','V','IV','I']\n",
    "r_num=''\n",
    "i=0\n",
    "while n>0:\n",
    "    for j in range(n//val[i]):\n",
    "        r_num+=r[i]\n",
    "        n-=val[i]\n",
    "    i+=1\n",
    "print(r_num)\n"
   ]
  },
  {
   "cell_type": "code",
   "execution_count": 62,
   "metadata": {},
   "outputs": [
    {
     "name": "stdout",
     "output_type": "stream",
     "text": [
      "ENTER VALUECCXXXIV\n",
      "234\n"
     ]
    }
   ],
   "source": [
    "# wap convert roman to int\n",
    "s=input(\"ENTER VALUE\")\n",
    "roman={'I':1,'IV':4,'V':5,'IX':9,'X':10,'XL':40,'L':50,'XC':90,'C':100,'CD':400,'D':500,'CM':900,'M':1000}\n",
    "i=0;\n",
    "n=0\n",
    "while i<len(s):\n",
    "    if i+1<len(s) and s[i:i+2]in roman:\n",
    "        n+=roman[s[i:i+2]]\n",
    "        i+=2\n",
    "    else:\n",
    "        n+=roman[s[i]]\n",
    "        i+=1\n",
    "print(n)\n"
   ]
  },
  {
   "cell_type": "code",
   "execution_count": null,
   "metadata": {},
   "outputs": [],
   "source": []
  }
 ],
 "metadata": {
  "kernelspec": {
   "display_name": "Python 3",
   "language": "python",
   "name": "python3"
  },
  "language_info": {
   "codemirror_mode": {
    "name": "ipython",
    "version": 3
   },
   "file_extension": ".py",
   "mimetype": "text/x-python",
   "name": "python",
   "nbconvert_exporter": "python",
   "pygments_lexer": "ipython3",
   "version": "3.8.5"
  }
 },
 "nbformat": 4,
 "nbformat_minor": 4
}
